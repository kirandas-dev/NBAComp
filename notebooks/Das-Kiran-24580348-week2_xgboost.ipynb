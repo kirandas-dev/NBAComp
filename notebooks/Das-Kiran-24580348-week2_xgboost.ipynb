{
 "cells": [
  {
   "cell_type": "code",
   "execution_count": 25,
   "id": "d1f3d59a-e9d2-4193-beef-8a6e0de7aa1c",
   "metadata": {
    "tags": []
   },
   "outputs": [
    {
     "name": "stdout",
     "output_type": "stream",
     "text": [
      "/Users/tantri/Documents/My Research Material/UTSSpring23/AdvancedML/AT1/AT1-NBAComp\n"
     ]
    }
   ],
   "source": [
    "    %cd AT1-NBAComp"
   ]
  },
  {
   "cell_type": "code",
   "execution_count": null,
   "id": "cb8d1d23-dcf8-463c-b5d5-a2aeb3c0305f",
   "metadata": {},
   "outputs": [],
   "source": [
    "#All the data processing steps have been documented in the data_preprocessing.ipynb notebook in the notebook folder. "
   ]
  },
  {
   "cell_type": "code",
   "execution_count": null,
   "id": "947bccb0-87b7-406c-8ccb-b81f73d5b58e",
   "metadata": {},
   "outputs": [],
   "source": [
    "#For Data Preprocessing, please run the below cell. "
   ]
  },
  {
   "cell_type": "code",
   "execution_count": 26,
   "id": "449f0e00-7b0d-4b45-867a-f0c98d21fb3a",
   "metadata": {
    "tags": []
   },
   "outputs": [
    {
     "name": "stdout",
     "output_type": "stream",
     "text": [
      "python3 test_environment.py\n",
      ">>> Development environment passes all tests!\n",
      "python3 -m pip install -U pip setuptools wheel\n",
      "Requirement already satisfied: pip in ./.venv/lib/python3.10/site-packages (23.2.1)\n",
      "Requirement already satisfied: setuptools in ./.venv/lib/python3.10/site-packages (68.1.2)\n",
      "Requirement already satisfied: wheel in ./.venv/lib/python3.10/site-packages (0.41.2)\n",
      "python3 -m pip install -r requirements.txt\n",
      "Ignoring colorama: markers 'python_version >= \"3.10\" and python_version < \"4.0\" and sys_platform == \"win32\"' don't match your environment\n",
      "Ignoring pywin32: markers 'sys_platform == \"win32\" and platform_python_implementation != \"PyPy\" and python_version >= \"3.10\" and python_version < \"4.0\"' don't match your environment\n",
      "Ignoring pywinpty: markers 'python_version >= \"3.10\" and python_version < \"4.0\" and os_name == \"nt\"' don't match your environment\n",
      "Requirement already satisfied: aiofiles==22.1.0 in ./.venv/lib/python3.10/site-packages (from -r requirements.txt (line 1)) (22.1.0)\n",
      "Requirement already satisfied: aiosqlite==0.19.0 in ./.venv/lib/python3.10/site-packages (from -r requirements.txt (line 4)) (0.19.0)\n",
      "Requirement already satisfied: anyio==3.7.1 in ./.venv/lib/python3.10/site-packages (from -r requirements.txt (line 7)) (3.7.1)\n",
      "Requirement already satisfied: appnope==0.1.3 in ./.venv/lib/python3.10/site-packages (from -r requirements.txt (line 10)) (0.1.3)\n",
      "Requirement already satisfied: argon2-cffi-bindings==21.2.0 in ./.venv/lib/python3.10/site-packages (from -r requirements.txt (line 13)) (21.2.0)\n",
      "Requirement already satisfied: argon2-cffi==23.1.0 in ./.venv/lib/python3.10/site-packages (from -r requirements.txt (line 35)) (23.1.0)\n",
      "Requirement already satisfied: arrow==1.2.3 in ./.venv/lib/python3.10/site-packages (from -r requirements.txt (line 38)) (1.2.3)\n",
      "Requirement already satisfied: asttokens==2.2.1 in ./.venv/lib/python3.10/site-packages (from -r requirements.txt (line 41)) (2.2.1)\n",
      "Requirement already satisfied: attrs==23.1.0 in ./.venv/lib/python3.10/site-packages (from -r requirements.txt (line 44)) (23.1.0)\n",
      "Requirement already satisfied: babel==2.12.1 in ./.venv/lib/python3.10/site-packages (from -r requirements.txt (line 47)) (2.12.1)\n",
      "Requirement already satisfied: backcall==0.2.0 in ./.venv/lib/python3.10/site-packages (from -r requirements.txt (line 50)) (0.2.0)\n",
      "Requirement already satisfied: beautifulsoup4==4.12.2 in ./.venv/lib/python3.10/site-packages (from -r requirements.txt (line 53)) (4.12.2)\n",
      "Requirement already satisfied: bleach==6.0.0 in ./.venv/lib/python3.10/site-packages (from -r requirements.txt (line 56)) (6.0.0)\n",
      "Requirement already satisfied: certifi==2023.7.22 in ./.venv/lib/python3.10/site-packages (from -r requirements.txt (line 59)) (2023.7.22)\n",
      "Requirement already satisfied: cffi==1.15.1 in ./.venv/lib/python3.10/site-packages (from -r requirements.txt (line 62)) (1.15.1)\n",
      "Requirement already satisfied: charset-normalizer==3.2.0 in ./.venv/lib/python3.10/site-packages (from -r requirements.txt (line 127)) (3.2.0)\n",
      "Requirement already satisfied: comm==0.1.4 in ./.venv/lib/python3.10/site-packages (from -r requirements.txt (line 206)) (0.1.4)\n",
      "Requirement already satisfied: debugpy==1.6.7.post1 in ./.venv/lib/python3.10/site-packages (from -r requirements.txt (line 209)) (1.6.7.post1)\n",
      "Requirement already satisfied: decorator==5.1.1 in ./.venv/lib/python3.10/site-packages (from -r requirements.txt (line 228)) (5.1.1)\n",
      "Requirement already satisfied: defusedxml==0.7.1 in ./.venv/lib/python3.10/site-packages (from -r requirements.txt (line 231)) (0.7.1)\n",
      "Requirement already satisfied: exceptiongroup==1.1.3 in ./.venv/lib/python3.10/site-packages (from -r requirements.txt (line 234)) (1.1.3)\n",
      "Requirement already satisfied: executing==1.2.0 in ./.venv/lib/python3.10/site-packages (from -r requirements.txt (line 237)) (1.2.0)\n",
      "Requirement already satisfied: fastjsonschema==2.18.0 in ./.venv/lib/python3.10/site-packages (from -r requirements.txt (line 240)) (2.18.0)\n",
      "Requirement already satisfied: fqdn==1.5.1 in ./.venv/lib/python3.10/site-packages (from -r requirements.txt (line 243)) (1.5.1)\n",
      "Requirement already satisfied: idna==3.4 in ./.venv/lib/python3.10/site-packages (from -r requirements.txt (line 246)) (3.4)\n",
      "Requirement already satisfied: ipykernel==6.25.1 in ./.venv/lib/python3.10/site-packages (from -r requirements.txt (line 249)) (6.25.1)\n",
      "Requirement already satisfied: ipython-genutils==0.2.0 in ./.venv/lib/python3.10/site-packages (from -r requirements.txt (line 252)) (0.2.0)\n",
      "Requirement already satisfied: ipython==8.14.0 in ./.venv/lib/python3.10/site-packages (from -r requirements.txt (line 255)) (8.14.0)\n",
      "Requirement already satisfied: isoduration==20.11.0 in ./.venv/lib/python3.10/site-packages (from -r requirements.txt (line 258)) (20.11.0)\n",
      "Requirement already satisfied: jedi==0.19.0 in ./.venv/lib/python3.10/site-packages (from -r requirements.txt (line 261)) (0.19.0)\n",
      "Requirement already satisfied: jinja2==3.1.2 in ./.venv/lib/python3.10/site-packages (from -r requirements.txt (line 264)) (3.1.2)\n",
      "Requirement already satisfied: joblib==1.3.2 in ./.venv/lib/python3.10/site-packages (from -r requirements.txt (line 267)) (1.3.2)\n",
      "Requirement already satisfied: json5==0.9.14 in ./.venv/lib/python3.10/site-packages (from -r requirements.txt (line 270)) (0.9.14)\n",
      "Requirement already satisfied: jsonpointer==2.4 in ./.venv/lib/python3.10/site-packages (from -r requirements.txt (line 273)) (2.4)\n",
      "Requirement already satisfied: jsonschema-specifications==2023.7.1 in ./.venv/lib/python3.10/site-packages (from -r requirements.txt (line 276)) (2023.7.1)\n",
      "Requirement already satisfied: jsonschema==4.19.0 in ./.venv/lib/python3.10/site-packages (from -r requirements.txt (line 279)) (4.19.0)\n",
      "Requirement already satisfied: jupyter-client==8.3.0 in ./.venv/lib/python3.10/site-packages (from -r requirements.txt (line 285)) (8.3.0)\n",
      "Requirement already satisfied: jupyter-core==5.3.1 in ./.venv/lib/python3.10/site-packages (from -r requirements.txt (line 288)) (5.3.1)\n",
      "Requirement already satisfied: jupyter-events==0.7.0 in ./.venv/lib/python3.10/site-packages (from -r requirements.txt (line 291)) (0.7.0)\n",
      "Requirement already satisfied: jupyter-server-fileid==0.9.0 in ./.venv/lib/python3.10/site-packages (from -r requirements.txt (line 294)) (0.9.0)\n",
      "Requirement already satisfied: jupyter-server-terminals==0.4.4 in ./.venv/lib/python3.10/site-packages (from -r requirements.txt (line 297)) (0.4.4)\n",
      "Requirement already satisfied: jupyter-server-ydoc==0.8.0 in ./.venv/lib/python3.10/site-packages (from -r requirements.txt (line 300)) (0.8.0)\n",
      "Requirement already satisfied: jupyter-server==2.7.1 in ./.venv/lib/python3.10/site-packages (from -r requirements.txt (line 303)) (2.7.1)\n",
      "Requirement already satisfied: jupyter-ydoc==0.2.5 in ./.venv/lib/python3.10/site-packages (from -r requirements.txt (line 306)) (0.2.5)\n",
      "Requirement already satisfied: jupyterlab-pygments==0.2.2 in ./.venv/lib/python3.10/site-packages (from -r requirements.txt (line 309)) (0.2.2)\n",
      "Requirement already satisfied: jupyterlab-server==2.24.0 in ./.venv/lib/python3.10/site-packages (from -r requirements.txt (line 312)) (2.24.0)\n",
      "Requirement already satisfied: jupyterlab==3.6.3 in ./.venv/lib/python3.10/site-packages (from -r requirements.txt (line 315)) (3.6.3)\n",
      "Requirement already satisfied: markupsafe==2.1.3 in ./.venv/lib/python3.10/site-packages (from -r requirements.txt (line 318)) (2.1.3)\n",
      "Requirement already satisfied: matplotlib-inline==0.1.6 in ./.venv/lib/python3.10/site-packages (from -r requirements.txt (line 369)) (0.1.6)\n",
      "Requirement already satisfied: mistune==3.0.1 in ./.venv/lib/python3.10/site-packages (from -r requirements.txt (line 372)) (3.0.1)\n",
      "Requirement already satisfied: nbclassic==1.0.0 in ./.venv/lib/python3.10/site-packages (from -r requirements.txt (line 375)) (1.0.0)\n",
      "Requirement already satisfied: nbclient==0.8.0 in ./.venv/lib/python3.10/site-packages (from -r requirements.txt (line 378)) (0.8.0)\n",
      "Requirement already satisfied: nbconvert==7.7.4 in ./.venv/lib/python3.10/site-packages (from -r requirements.txt (line 381)) (7.7.4)\n",
      "Requirement already satisfied: nbformat==5.9.2 in ./.venv/lib/python3.10/site-packages (from -r requirements.txt (line 384)) (5.9.2)\n",
      "Requirement already satisfied: nest-asyncio==1.5.7 in ./.venv/lib/python3.10/site-packages (from -r requirements.txt (line 387)) (1.5.7)\n",
      "Requirement already satisfied: notebook-shim==0.2.3 in ./.venv/lib/python3.10/site-packages (from -r requirements.txt (line 390)) (0.2.3)\n",
      "Requirement already satisfied: notebook==6.5.4 in ./.venv/lib/python3.10/site-packages (from -r requirements.txt (line 393)) (6.5.4)\n",
      "Requirement already satisfied: numpy==1.25.2 in ./.venv/lib/python3.10/site-packages (from -r requirements.txt (line 396)) (1.25.2)\n",
      "Requirement already satisfied: overrides==7.4.0 in ./.venv/lib/python3.10/site-packages (from -r requirements.txt (line 422)) (7.4.0)\n",
      "Requirement already satisfied: packaging==23.1 in ./.venv/lib/python3.10/site-packages (from -r requirements.txt (line 425)) (23.1)\n",
      "Requirement already satisfied: pandas==2.0.1 in ./.venv/lib/python3.10/site-packages (from -r requirements.txt (line 428)) (2.0.1)\n",
      "Requirement already satisfied: pandocfilters==1.5.0 in ./.venv/lib/python3.10/site-packages (from -r requirements.txt (line 454)) (1.5.0)\n",
      "Requirement already satisfied: parso==0.8.3 in ./.venv/lib/python3.10/site-packages (from -r requirements.txt (line 457)) (0.8.3)\n",
      "Requirement already satisfied: pexpect==4.8.0 in ./.venv/lib/python3.10/site-packages (from -r requirements.txt (line 460)) (4.8.0)\n",
      "Requirement already satisfied: pickleshare==0.7.5 in ./.venv/lib/python3.10/site-packages (from -r requirements.txt (line 463)) (0.7.5)\n",
      "Requirement already satisfied: platformdirs==3.10.0 in ./.venv/lib/python3.10/site-packages (from -r requirements.txt (line 466)) (3.10.0)\n",
      "Requirement already satisfied: prometheus-client==0.17.1 in ./.venv/lib/python3.10/site-packages (from -r requirements.txt (line 469)) (0.17.1)\n",
      "Requirement already satisfied: prompt-toolkit==3.0.39 in ./.venv/lib/python3.10/site-packages (from -r requirements.txt (line 472)) (3.0.39)\n",
      "Requirement already satisfied: psutil==5.9.5 in ./.venv/lib/python3.10/site-packages (from -r requirements.txt (line 475)) (5.9.5)\n",
      "Requirement already satisfied: ptyprocess==0.7.0 in ./.venv/lib/python3.10/site-packages (from -r requirements.txt (line 490)) (0.7.0)\n",
      "Requirement already satisfied: pure-eval==0.2.2 in ./.venv/lib/python3.10/site-packages (from -r requirements.txt (line 493)) (0.2.2)\n",
      "Requirement already satisfied: pycparser==2.21 in ./.venv/lib/python3.10/site-packages (from -r requirements.txt (line 496)) (2.21)\n",
      "Requirement already satisfied: pygments==2.16.1 in ./.venv/lib/python3.10/site-packages (from -r requirements.txt (line 499)) (2.16.1)\n",
      "Requirement already satisfied: python-dateutil==2.8.2 in ./.venv/lib/python3.10/site-packages (from -r requirements.txt (line 502)) (2.8.2)\n",
      "Requirement already satisfied: python-json-logger==2.0.7 in ./.venv/lib/python3.10/site-packages (from -r requirements.txt (line 505)) (2.0.7)\n",
      "Requirement already satisfied: pytz==2023.3 in ./.venv/lib/python3.10/site-packages (from -r requirements.txt (line 508)) (2023.3)\n",
      "Requirement already satisfied: pyyaml==6.0.1 in ./.venv/lib/python3.10/site-packages (from -r requirements.txt (line 532)) (6.0.1)\n",
      "Requirement already satisfied: pyzmq==25.1.1 in ./.venv/lib/python3.10/site-packages (from -r requirements.txt (line 573)) (25.1.1)\n",
      "Requirement already satisfied: referencing==0.30.2 in ./.venv/lib/python3.10/site-packages (from -r requirements.txt (line 667)) (0.30.2)\n",
      "Requirement already satisfied: requests==2.31.0 in ./.venv/lib/python3.10/site-packages (from -r requirements.txt (line 670)) (2.31.0)\n",
      "Requirement already satisfied: rfc3339-validator==0.1.4 in ./.venv/lib/python3.10/site-packages (from -r requirements.txt (line 673)) (0.1.4)\n",
      "Requirement already satisfied: rfc3986-validator==0.1.1 in ./.venv/lib/python3.10/site-packages (from -r requirements.txt (line 676)) (0.1.1)\n",
      "Requirement already satisfied: rpds-py==0.9.2 in ./.venv/lib/python3.10/site-packages (from -r requirements.txt (line 679)) (0.9.2)\n",
      "Requirement already satisfied: scikit-learn==1.2.2 in ./.venv/lib/python3.10/site-packages (from -r requirements.txt (line 777)) (1.2.2)\n",
      "Requirement already satisfied: scipy==1.9.3 in ./.venv/lib/python3.10/site-packages (from -r requirements.txt (line 799)) (1.9.3)\n",
      "Requirement already satisfied: send2trash==1.8.2 in ./.venv/lib/python3.10/site-packages (from -r requirements.txt (line 821)) (1.8.2)\n",
      "Requirement already satisfied: six==1.16.0 in ./.venv/lib/python3.10/site-packages (from -r requirements.txt (line 824)) (1.16.0)\n",
      "Requirement already satisfied: sniffio==1.3.0 in ./.venv/lib/python3.10/site-packages (from -r requirements.txt (line 827)) (1.3.0)\n",
      "Requirement already satisfied: soupsieve==2.4.1 in ./.venv/lib/python3.10/site-packages (from -r requirements.txt (line 830)) (2.4.1)\n",
      "Requirement already satisfied: stack-data==0.6.2 in ./.venv/lib/python3.10/site-packages (from -r requirements.txt (line 833)) (0.6.2)\n",
      "Requirement already satisfied: terminado==0.17.1 in ./.venv/lib/python3.10/site-packages (from -r requirements.txt (line 836)) (0.17.1)\n",
      "Requirement already satisfied: threadpoolctl==3.2.0 in ./.venv/lib/python3.10/site-packages (from -r requirements.txt (line 839)) (3.2.0)\n",
      "Requirement already satisfied: tinycss2==1.2.1 in ./.venv/lib/python3.10/site-packages (from -r requirements.txt (line 842)) (1.2.1)\n",
      "Requirement already satisfied: tomli==2.0.1 in ./.venv/lib/python3.10/site-packages (from -r requirements.txt (line 845)) (2.0.1)\n",
      "Requirement already satisfied: tornado==6.3.3 in ./.venv/lib/python3.10/site-packages (from -r requirements.txt (line 848)) (6.3.3)\n",
      "Requirement already satisfied: traitlets==5.9.0 in ./.venv/lib/python3.10/site-packages (from -r requirements.txt (line 860)) (5.9.0)\n",
      "Requirement already satisfied: tzdata==2023.3 in ./.venv/lib/python3.10/site-packages (from -r requirements.txt (line 863)) (2023.3)\n",
      "Requirement already satisfied: uri-template==1.3.0 in ./.venv/lib/python3.10/site-packages (from -r requirements.txt (line 866)) (1.3.0)\n",
      "Requirement already satisfied: urllib3==2.0.4 in ./.venv/lib/python3.10/site-packages (from -r requirements.txt (line 869)) (2.0.4)\n",
      "Requirement already satisfied: wcwidth==0.2.6 in ./.venv/lib/python3.10/site-packages (from -r requirements.txt (line 872)) (0.2.6)\n",
      "Requirement already satisfied: webcolors==1.13 in ./.venv/lib/python3.10/site-packages (from -r requirements.txt (line 875)) (1.13)\n",
      "Requirement already satisfied: webencodings==0.5.1 in ./.venv/lib/python3.10/site-packages (from -r requirements.txt (line 878)) (0.5.1)\n",
      "Requirement already satisfied: websocket-client==1.6.1 in ./.venv/lib/python3.10/site-packages (from -r requirements.txt (line 881)) (1.6.1)\n",
      "Requirement already satisfied: y-py==0.6.0 in ./.venv/lib/python3.10/site-packages (from -r requirements.txt (line 884)) (0.6.0)\n",
      "Requirement already satisfied: ypy-websocket==0.8.4 in ./.venv/lib/python3.10/site-packages (from -r requirements.txt (line 951)) (0.8.4)\n",
      ">>> Downloading train data from Kaggle.\n",
      "curl -o data/raw/train.csv https://raw.githubusercontent.com/kirandas-dev/data-ML/main/train.csv\n",
      "  % Total    % Received % Xferd  Average Speed   Time    Time     Time  Current\n",
      "                                 Dload  Upload   Total   Spent    Left  Speed\n",
      "100 20.1M  100 20.1M    0     0  1433k      0  0:00:14  0:00:13  0:00:01 3050k   0  1498k      0  0:00:13  0:00:13 --:--:-- 3220k\n",
      ">>> Downloading test data from Kaggle.\n",
      "curl -o data/raw/test.csv https://raw.githubusercontent.com/kirandas-dev/data-ML/main/test.csv\n",
      "  % Total    % Received % Xferd  Average Speed   Time    Time     Time  Current\n",
      "                                 Dload  Upload   Total   Spent    Left  Speed\n",
      "100 1793k  100 1793k    0     0   935k      0  0:00:01  0:00:01 --:--:--  937k\n",
      ">>> Data downloaded.\n",
      "python3 src/data/make_dataset.py data/raw/train.csv data/processed\n",
      "2023-09-01 20:51:34,111 - __main__ - INFO - making final data set from raw data\n",
      "2023-09-01 20:51:34,111 - __main__ - INFO - reading data\n",
      "2023-09-01 20:51:34,329 - __main__ - INFO - processing data\n",
      "2023-09-01 20:51:34,777 - __main__ - INFO - saving processed data\n"
     ]
    }
   ],
   "source": [
    "!make data"
   ]
  },
  {
   "cell_type": "code",
   "execution_count": null,
   "id": "3fb97ec2-0922-458c-8e8f-4f6bd23b37a1",
   "metadata": {
    "tags": []
   },
   "outputs": [],
   "source": [
    "#Train XGBoost Model with the best parameters obtained from grid search\n",
    "#best_params = {'learning_rate': 0.0145, 'max_depth': 2, 'n_estimators': 400, 'reg_lambda': 0.5}\n"
   ]
  },
  {
   "cell_type": "code",
   "execution_count": 28,
   "id": "3033365a-2650-42fc-b34d-f6fd9b588fd6",
   "metadata": {
    "tags": []
   },
   "outputs": [
    {
     "name": "stdout",
     "output_type": "stream",
     "text": [
      "python3 test_environment.py\n",
      ">>> Development environment passes all tests!\n",
      "python3 -m pip install -U pip setuptools wheel\n",
      "Requirement already satisfied: pip in ./.venv/lib/python3.10/site-packages (23.2.1)\n",
      "Requirement already satisfied: setuptools in ./.venv/lib/python3.10/site-packages (68.1.2)\n",
      "Requirement already satisfied: wheel in ./.venv/lib/python3.10/site-packages (0.41.2)\n",
      "python3 -m pip install -r requirements.txt\n",
      "Ignoring colorama: markers 'python_version >= \"3.10\" and python_version < \"4.0\" and sys_platform == \"win32\"' don't match your environment\n",
      "Ignoring pywin32: markers 'sys_platform == \"win32\" and platform_python_implementation != \"PyPy\" and python_version >= \"3.10\" and python_version < \"4.0\"' don't match your environment\n",
      "Ignoring pywinpty: markers 'python_version >= \"3.10\" and python_version < \"4.0\" and os_name == \"nt\"' don't match your environment\n",
      "Requirement already satisfied: aiofiles==22.1.0 in ./.venv/lib/python3.10/site-packages (from -r requirements.txt (line 1)) (22.1.0)\n",
      "Requirement already satisfied: aiosqlite==0.19.0 in ./.venv/lib/python3.10/site-packages (from -r requirements.txt (line 4)) (0.19.0)\n",
      "Requirement already satisfied: anyio==3.7.1 in ./.venv/lib/python3.10/site-packages (from -r requirements.txt (line 7)) (3.7.1)\n",
      "Requirement already satisfied: appnope==0.1.3 in ./.venv/lib/python3.10/site-packages (from -r requirements.txt (line 10)) (0.1.3)\n",
      "Requirement already satisfied: argon2-cffi-bindings==21.2.0 in ./.venv/lib/python3.10/site-packages (from -r requirements.txt (line 13)) (21.2.0)\n",
      "Requirement already satisfied: argon2-cffi==23.1.0 in ./.venv/lib/python3.10/site-packages (from -r requirements.txt (line 35)) (23.1.0)\n",
      "Requirement already satisfied: arrow==1.2.3 in ./.venv/lib/python3.10/site-packages (from -r requirements.txt (line 38)) (1.2.3)\n",
      "Requirement already satisfied: asttokens==2.2.1 in ./.venv/lib/python3.10/site-packages (from -r requirements.txt (line 41)) (2.2.1)\n",
      "Requirement already satisfied: attrs==23.1.0 in ./.venv/lib/python3.10/site-packages (from -r requirements.txt (line 44)) (23.1.0)\n",
      "Requirement already satisfied: babel==2.12.1 in ./.venv/lib/python3.10/site-packages (from -r requirements.txt (line 47)) (2.12.1)\n",
      "Requirement already satisfied: backcall==0.2.0 in ./.venv/lib/python3.10/site-packages (from -r requirements.txt (line 50)) (0.2.0)\n",
      "Requirement already satisfied: beautifulsoup4==4.12.2 in ./.venv/lib/python3.10/site-packages (from -r requirements.txt (line 53)) (4.12.2)\n",
      "Requirement already satisfied: bleach==6.0.0 in ./.venv/lib/python3.10/site-packages (from -r requirements.txt (line 56)) (6.0.0)\n",
      "Requirement already satisfied: certifi==2023.7.22 in ./.venv/lib/python3.10/site-packages (from -r requirements.txt (line 59)) (2023.7.22)\n",
      "Requirement already satisfied: cffi==1.15.1 in ./.venv/lib/python3.10/site-packages (from -r requirements.txt (line 62)) (1.15.1)\n",
      "Requirement already satisfied: charset-normalizer==3.2.0 in ./.venv/lib/python3.10/site-packages (from -r requirements.txt (line 127)) (3.2.0)\n",
      "Requirement already satisfied: comm==0.1.4 in ./.venv/lib/python3.10/site-packages (from -r requirements.txt (line 206)) (0.1.4)\n",
      "Requirement already satisfied: debugpy==1.6.7.post1 in ./.venv/lib/python3.10/site-packages (from -r requirements.txt (line 209)) (1.6.7.post1)\n",
      "Requirement already satisfied: decorator==5.1.1 in ./.venv/lib/python3.10/site-packages (from -r requirements.txt (line 228)) (5.1.1)\n",
      "Requirement already satisfied: defusedxml==0.7.1 in ./.venv/lib/python3.10/site-packages (from -r requirements.txt (line 231)) (0.7.1)\n",
      "Requirement already satisfied: exceptiongroup==1.1.3 in ./.venv/lib/python3.10/site-packages (from -r requirements.txt (line 234)) (1.1.3)\n",
      "Requirement already satisfied: executing==1.2.0 in ./.venv/lib/python3.10/site-packages (from -r requirements.txt (line 237)) (1.2.0)\n",
      "Requirement already satisfied: fastjsonschema==2.18.0 in ./.venv/lib/python3.10/site-packages (from -r requirements.txt (line 240)) (2.18.0)\n",
      "Requirement already satisfied: fqdn==1.5.1 in ./.venv/lib/python3.10/site-packages (from -r requirements.txt (line 243)) (1.5.1)\n",
      "Requirement already satisfied: idna==3.4 in ./.venv/lib/python3.10/site-packages (from -r requirements.txt (line 246)) (3.4)\n",
      "Requirement already satisfied: ipykernel==6.25.1 in ./.venv/lib/python3.10/site-packages (from -r requirements.txt (line 249)) (6.25.1)\n",
      "Requirement already satisfied: ipython-genutils==0.2.0 in ./.venv/lib/python3.10/site-packages (from -r requirements.txt (line 252)) (0.2.0)\n",
      "Requirement already satisfied: ipython==8.14.0 in ./.venv/lib/python3.10/site-packages (from -r requirements.txt (line 255)) (8.14.0)\n",
      "Requirement already satisfied: isoduration==20.11.0 in ./.venv/lib/python3.10/site-packages (from -r requirements.txt (line 258)) (20.11.0)\n",
      "Requirement already satisfied: jedi==0.19.0 in ./.venv/lib/python3.10/site-packages (from -r requirements.txt (line 261)) (0.19.0)\n",
      "Requirement already satisfied: jinja2==3.1.2 in ./.venv/lib/python3.10/site-packages (from -r requirements.txt (line 264)) (3.1.2)\n",
      "Requirement already satisfied: joblib==1.3.2 in ./.venv/lib/python3.10/site-packages (from -r requirements.txt (line 267)) (1.3.2)\n",
      "Requirement already satisfied: json5==0.9.14 in ./.venv/lib/python3.10/site-packages (from -r requirements.txt (line 270)) (0.9.14)\n",
      "Requirement already satisfied: jsonpointer==2.4 in ./.venv/lib/python3.10/site-packages (from -r requirements.txt (line 273)) (2.4)\n",
      "Requirement already satisfied: jsonschema-specifications==2023.7.1 in ./.venv/lib/python3.10/site-packages (from -r requirements.txt (line 276)) (2023.7.1)\n",
      "Requirement already satisfied: jsonschema==4.19.0 in ./.venv/lib/python3.10/site-packages (from -r requirements.txt (line 279)) (4.19.0)\n",
      "Requirement already satisfied: jupyter-client==8.3.0 in ./.venv/lib/python3.10/site-packages (from -r requirements.txt (line 285)) (8.3.0)\n",
      "Requirement already satisfied: jupyter-core==5.3.1 in ./.venv/lib/python3.10/site-packages (from -r requirements.txt (line 288)) (5.3.1)\n",
      "Requirement already satisfied: jupyter-events==0.7.0 in ./.venv/lib/python3.10/site-packages (from -r requirements.txt (line 291)) (0.7.0)\n",
      "Requirement already satisfied: jupyter-server-fileid==0.9.0 in ./.venv/lib/python3.10/site-packages (from -r requirements.txt (line 294)) (0.9.0)\n",
      "Requirement already satisfied: jupyter-server-terminals==0.4.4 in ./.venv/lib/python3.10/site-packages (from -r requirements.txt (line 297)) (0.4.4)\n",
      "Requirement already satisfied: jupyter-server-ydoc==0.8.0 in ./.venv/lib/python3.10/site-packages (from -r requirements.txt (line 300)) (0.8.0)\n",
      "Requirement already satisfied: jupyter-server==2.7.1 in ./.venv/lib/python3.10/site-packages (from -r requirements.txt (line 303)) (2.7.1)\n",
      "Requirement already satisfied: jupyter-ydoc==0.2.5 in ./.venv/lib/python3.10/site-packages (from -r requirements.txt (line 306)) (0.2.5)\n",
      "Requirement already satisfied: jupyterlab-pygments==0.2.2 in ./.venv/lib/python3.10/site-packages (from -r requirements.txt (line 309)) (0.2.2)\n",
      "Requirement already satisfied: jupyterlab-server==2.24.0 in ./.venv/lib/python3.10/site-packages (from -r requirements.txt (line 312)) (2.24.0)\n",
      "Requirement already satisfied: jupyterlab==3.6.3 in ./.venv/lib/python3.10/site-packages (from -r requirements.txt (line 315)) (3.6.3)\n",
      "Requirement already satisfied: markupsafe==2.1.3 in ./.venv/lib/python3.10/site-packages (from -r requirements.txt (line 318)) (2.1.3)\n",
      "Requirement already satisfied: matplotlib-inline==0.1.6 in ./.venv/lib/python3.10/site-packages (from -r requirements.txt (line 369)) (0.1.6)\n",
      "Requirement already satisfied: mistune==3.0.1 in ./.venv/lib/python3.10/site-packages (from -r requirements.txt (line 372)) (3.0.1)\n",
      "Requirement already satisfied: nbclassic==1.0.0 in ./.venv/lib/python3.10/site-packages (from -r requirements.txt (line 375)) (1.0.0)\n",
      "Requirement already satisfied: nbclient==0.8.0 in ./.venv/lib/python3.10/site-packages (from -r requirements.txt (line 378)) (0.8.0)\n",
      "Requirement already satisfied: nbconvert==7.7.4 in ./.venv/lib/python3.10/site-packages (from -r requirements.txt (line 381)) (7.7.4)\n",
      "Requirement already satisfied: nbformat==5.9.2 in ./.venv/lib/python3.10/site-packages (from -r requirements.txt (line 384)) (5.9.2)\n",
      "Requirement already satisfied: nest-asyncio==1.5.7 in ./.venv/lib/python3.10/site-packages (from -r requirements.txt (line 387)) (1.5.7)\n",
      "Requirement already satisfied: notebook-shim==0.2.3 in ./.venv/lib/python3.10/site-packages (from -r requirements.txt (line 390)) (0.2.3)\n",
      "Requirement already satisfied: notebook==6.5.4 in ./.venv/lib/python3.10/site-packages (from -r requirements.txt (line 393)) (6.5.4)\n",
      "Requirement already satisfied: numpy==1.25.2 in ./.venv/lib/python3.10/site-packages (from -r requirements.txt (line 396)) (1.25.2)\n",
      "Requirement already satisfied: overrides==7.4.0 in ./.venv/lib/python3.10/site-packages (from -r requirements.txt (line 422)) (7.4.0)\n",
      "Requirement already satisfied: packaging==23.1 in ./.venv/lib/python3.10/site-packages (from -r requirements.txt (line 425)) (23.1)\n",
      "Requirement already satisfied: pandas==2.0.1 in ./.venv/lib/python3.10/site-packages (from -r requirements.txt (line 428)) (2.0.1)\n",
      "Requirement already satisfied: pandocfilters==1.5.0 in ./.venv/lib/python3.10/site-packages (from -r requirements.txt (line 454)) (1.5.0)\n",
      "Requirement already satisfied: parso==0.8.3 in ./.venv/lib/python3.10/site-packages (from -r requirements.txt (line 457)) (0.8.3)\n",
      "Requirement already satisfied: pexpect==4.8.0 in ./.venv/lib/python3.10/site-packages (from -r requirements.txt (line 460)) (4.8.0)\n",
      "Requirement already satisfied: pickleshare==0.7.5 in ./.venv/lib/python3.10/site-packages (from -r requirements.txt (line 463)) (0.7.5)\n",
      "Requirement already satisfied: platformdirs==3.10.0 in ./.venv/lib/python3.10/site-packages (from -r requirements.txt (line 466)) (3.10.0)\n",
      "Requirement already satisfied: prometheus-client==0.17.1 in ./.venv/lib/python3.10/site-packages (from -r requirements.txt (line 469)) (0.17.1)\n",
      "Requirement already satisfied: prompt-toolkit==3.0.39 in ./.venv/lib/python3.10/site-packages (from -r requirements.txt (line 472)) (3.0.39)\n",
      "Requirement already satisfied: psutil==5.9.5 in ./.venv/lib/python3.10/site-packages (from -r requirements.txt (line 475)) (5.9.5)\n",
      "Requirement already satisfied: ptyprocess==0.7.0 in ./.venv/lib/python3.10/site-packages (from -r requirements.txt (line 490)) (0.7.0)\n",
      "Requirement already satisfied: pure-eval==0.2.2 in ./.venv/lib/python3.10/site-packages (from -r requirements.txt (line 493)) (0.2.2)\n",
      "Requirement already satisfied: pycparser==2.21 in ./.venv/lib/python3.10/site-packages (from -r requirements.txt (line 496)) (2.21)\n",
      "Requirement already satisfied: pygments==2.16.1 in ./.venv/lib/python3.10/site-packages (from -r requirements.txt (line 499)) (2.16.1)\n",
      "Requirement already satisfied: python-dateutil==2.8.2 in ./.venv/lib/python3.10/site-packages (from -r requirements.txt (line 502)) (2.8.2)\n",
      "Requirement already satisfied: python-json-logger==2.0.7 in ./.venv/lib/python3.10/site-packages (from -r requirements.txt (line 505)) (2.0.7)\n",
      "Requirement already satisfied: pytz==2023.3 in ./.venv/lib/python3.10/site-packages (from -r requirements.txt (line 508)) (2023.3)\n",
      "Requirement already satisfied: pyyaml==6.0.1 in ./.venv/lib/python3.10/site-packages (from -r requirements.txt (line 532)) (6.0.1)\n",
      "Requirement already satisfied: pyzmq==25.1.1 in ./.venv/lib/python3.10/site-packages (from -r requirements.txt (line 573)) (25.1.1)\n",
      "Requirement already satisfied: referencing==0.30.2 in ./.venv/lib/python3.10/site-packages (from -r requirements.txt (line 667)) (0.30.2)\n",
      "Requirement already satisfied: requests==2.31.0 in ./.venv/lib/python3.10/site-packages (from -r requirements.txt (line 670)) (2.31.0)\n",
      "Requirement already satisfied: rfc3339-validator==0.1.4 in ./.venv/lib/python3.10/site-packages (from -r requirements.txt (line 673)) (0.1.4)\n",
      "Requirement already satisfied: rfc3986-validator==0.1.1 in ./.venv/lib/python3.10/site-packages (from -r requirements.txt (line 676)) (0.1.1)\n",
      "Requirement already satisfied: rpds-py==0.9.2 in ./.venv/lib/python3.10/site-packages (from -r requirements.txt (line 679)) (0.9.2)\n",
      "Requirement already satisfied: scikit-learn==1.2.2 in ./.venv/lib/python3.10/site-packages (from -r requirements.txt (line 777)) (1.2.2)\n",
      "Requirement already satisfied: scipy==1.9.3 in ./.venv/lib/python3.10/site-packages (from -r requirements.txt (line 799)) (1.9.3)\n",
      "Requirement already satisfied: send2trash==1.8.2 in ./.venv/lib/python3.10/site-packages (from -r requirements.txt (line 821)) (1.8.2)\n",
      "Requirement already satisfied: six==1.16.0 in ./.venv/lib/python3.10/site-packages (from -r requirements.txt (line 824)) (1.16.0)\n",
      "Requirement already satisfied: sniffio==1.3.0 in ./.venv/lib/python3.10/site-packages (from -r requirements.txt (line 827)) (1.3.0)\n",
      "Requirement already satisfied: soupsieve==2.4.1 in ./.venv/lib/python3.10/site-packages (from -r requirements.txt (line 830)) (2.4.1)\n",
      "Requirement already satisfied: stack-data==0.6.2 in ./.venv/lib/python3.10/site-packages (from -r requirements.txt (line 833)) (0.6.2)\n",
      "Requirement already satisfied: terminado==0.17.1 in ./.venv/lib/python3.10/site-packages (from -r requirements.txt (line 836)) (0.17.1)\n",
      "Requirement already satisfied: threadpoolctl==3.2.0 in ./.venv/lib/python3.10/site-packages (from -r requirements.txt (line 839)) (3.2.0)\n",
      "Requirement already satisfied: tinycss2==1.2.1 in ./.venv/lib/python3.10/site-packages (from -r requirements.txt (line 842)) (1.2.1)\n",
      "Requirement already satisfied: tomli==2.0.1 in ./.venv/lib/python3.10/site-packages (from -r requirements.txt (line 845)) (2.0.1)\n",
      "Requirement already satisfied: tornado==6.3.3 in ./.venv/lib/python3.10/site-packages (from -r requirements.txt (line 848)) (6.3.3)\n",
      "Requirement already satisfied: traitlets==5.9.0 in ./.venv/lib/python3.10/site-packages (from -r requirements.txt (line 860)) (5.9.0)\n",
      "Requirement already satisfied: tzdata==2023.3 in ./.venv/lib/python3.10/site-packages (from -r requirements.txt (line 863)) (2023.3)\n",
      "Requirement already satisfied: uri-template==1.3.0 in ./.venv/lib/python3.10/site-packages (from -r requirements.txt (line 866)) (1.3.0)\n",
      "Requirement already satisfied: urllib3==2.0.4 in ./.venv/lib/python3.10/site-packages (from -r requirements.txt (line 869)) (2.0.4)\n",
      "Requirement already satisfied: wcwidth==0.2.6 in ./.venv/lib/python3.10/site-packages (from -r requirements.txt (line 872)) (0.2.6)\n",
      "Requirement already satisfied: webcolors==1.13 in ./.venv/lib/python3.10/site-packages (from -r requirements.txt (line 875)) (1.13)\n",
      "Requirement already satisfied: webencodings==0.5.1 in ./.venv/lib/python3.10/site-packages (from -r requirements.txt (line 878)) (0.5.1)\n",
      "Requirement already satisfied: websocket-client==1.6.1 in ./.venv/lib/python3.10/site-packages (from -r requirements.txt (line 881)) (1.6.1)\n",
      "Requirement already satisfied: y-py==0.6.0 in ./.venv/lib/python3.10/site-packages (from -r requirements.txt (line 884)) (0.6.0)\n",
      "Requirement already satisfied: ypy-websocket==0.8.4 in ./.venv/lib/python3.10/site-packages (from -r requirements.txt (line 951)) (0.8.4)\n",
      ">>> Downloading train data from Kaggle.\n",
      "curl -o data/raw/train.csv https://raw.githubusercontent.com/kirandas-dev/data-ML/main/train.csv\n",
      "  % Total    % Received % Xferd  Average Speed   Time    Time     Time  Current\n",
      "                                 Dload  Upload   Total   Spent    Left  Speed\n",
      "100 20.1M  100 20.1M    0     0  1588k      0  0:00:12  0:00:12 --:--:-- 1559k\n",
      ">>> Downloading test data from Kaggle.\n",
      "curl -o data/raw/test.csv https://raw.githubusercontent.com/kirandas-dev/data-ML/main/test.csv\n",
      "  % Total    % Received % Xferd  Average Speed   Time    Time     Time  Current\n",
      "                                 Dload  Upload   Total   Spent    Left  Speed\n",
      "100 1793k  100 1793k    0     0   694k      0  0:00:02  0:00:02 --:--:--  695k\n",
      ">>> Data downloaded.\n",
      "python3 src/data/make_dataset.py data/raw/train.csv data/processed\n",
      "2023-09-01 21:03:01,239 - __main__ - INFO - making final data set from raw data\n",
      "2023-09-01 21:03:01,239 - __main__ - INFO - reading data\n",
      "2023-09-01 21:03:01,463 - __main__ - INFO - processing data\n",
      "2023-09-01 21:03:01,889 - __main__ - INFO - saving processed data\n",
      ">>> Training the model.\n",
      "python3 src/models/train_model.py\n",
      "Train Accuracy: 0.9933825515440713\n",
      "Train F1 Score: 0.9934215433268195\n",
      "Validation Accuracy: 0.9932067662407774\n",
      "Validation F1 Score: 0.9932513966480447\n",
      "Test Accuracy: 0.9935701438848921\n",
      "Test F1 Score: 0.9936095097644903\n"
     ]
    }
   ],
   "source": [
    "!make train_model "
   ]
  },
  {
   "cell_type": "code",
   "execution_count": 30,
   "id": "b73e7809-1a4e-4656-ad77-a89d5aebc126",
   "metadata": {
    "tags": []
   },
   "outputs": [
    {
     "name": "stdout",
     "output_type": "stream",
     "text": [
      ">>> Loading the best model.\n",
      "python3 src/models/load_model.py\n",
      "Model Successfully Loaded\n",
      "Validation AUROC: 0.9977329603138887\n",
      "Test AUROC: 0.9985321023756535\n",
      "Validation ROC Curve Image: reports/figures/validation_roc_curve.png\n",
      "Test ROC Curve Image: reports/figures/test_roc_curve.png\n"
     ]
    }
   ],
   "source": [
    "#Loading the Best model\n",
    "!make load_model\n"
   ]
  },
  {
   "cell_type": "code",
   "execution_count": 31,
   "id": "0ba96f63-80b0-43ad-9a27-84082bd07395",
   "metadata": {
    "tags": []
   },
   "outputs": [
    {
     "name": "stdout",
     "output_type": "stream",
     "text": [
      ">>> Predicting on unseen data.\n",
      "python3 src/models/predict_model.py\n",
      "Model Successfully Predicted. Please check reports/figures/final_model_outputs_week3_31stAug.csv \n"
     ]
    }
   ],
   "source": [
    "#Predicting the model on unseen data\n",
    "!make predict_model"
   ]
  },
  {
   "cell_type": "code",
   "execution_count": null,
   "id": "48dae0d5-45b5-4237-932b-e5e033b353d1",
   "metadata": {},
   "outputs": [],
   "source": []
  }
 ],
 "metadata": {
  "kernelspec": {
   "display_name": "Python 3 (ipykernel)",
   "language": "python",
   "name": "python3"
  },
  "language_info": {
   "codemirror_mode": {
    "name": "ipython",
    "version": 3
   },
   "file_extension": ".py",
   "mimetype": "text/x-python",
   "name": "python",
   "nbconvert_exporter": "python",
   "pygments_lexer": "ipython3",
   "version": "3.10.6"
  }
 },
 "nbformat": 4,
 "nbformat_minor": 5
}

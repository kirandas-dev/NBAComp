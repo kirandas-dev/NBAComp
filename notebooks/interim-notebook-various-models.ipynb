{
 "cells": [
  {
   "cell_type": "code",
   "execution_count": 13,
   "id": "d1f3d59a-e9d2-4193-beef-8a6e0de7aa1c",
   "metadata": {
    "tags": []
   },
   "outputs": [
    {
     "name": "stdout",
     "output_type": "stream",
     "text": [
      "/Users/tantri/Documents/My Research Material/UTSSpring23/AdvancedML/AT1/AT1-NBAComp\n"
     ]
    }
   ],
   "source": [
    "%cd .."
   ]
  },
  {
   "cell_type": "code",
   "execution_count": null,
   "id": "cb8d1d23-dcf8-463c-b5d5-a2aeb3c0305f",
   "metadata": {},
   "outputs": [],
   "source": [
    "#All the data processing steps have been documented in the data_preprocessing.ipynb notebook in the notebook folder. "
   ]
  },
  {
   "cell_type": "code",
   "execution_count": null,
   "id": "947bccb0-87b7-406c-8ccb-b81f73d5b58e",
   "metadata": {},
   "outputs": [],
   "source": [
    "#For Data Preprocessing, please run the below cell. "
   ]
  },
  {
   "cell_type": "code",
   "execution_count": null,
   "id": "449f0e00-7b0d-4b45-867a-f0c98d21fb3a",
   "metadata": {
    "tags": []
   },
   "outputs": [],
   "source": [
    "!make data"
   ]
  },
  {
   "cell_type": "code",
   "execution_count": 21,
   "id": "cf130781-f468-4c7c-9916-0feb3cf5ac58",
   "metadata": {
    "tags": []
   },
   "outputs": [],
   "source": [
    "# Read the preprocessed data\n",
    "X_train = pd.read_csv('data/processed/X_train.csv')\n",
    "X_val = pd.read_csv('data/processed/X_val.csv')\n",
    "X_test = pd.read_csv('data/processed/X_test.csv')\n",
    "y_train_resampled = pd.read_csv('data/processed/y_train.csv').iloc[:, 0]  # Convert to Series\n",
    "y_val_resampled = pd.read_csv('data/processed/y_val.csv').iloc[:, 0]      # Convert to Series\n",
    "y_test  = pd.read_csv('data/processed/y_test.csv' )"
   ]
  },
  {
   "cell_type": "code",
   "execution_count": 19,
   "id": "edabbed0-05b0-44fc-b6c0-340a397b85c5",
   "metadata": {
    "tags": []
   },
   "outputs": [
    {
     "name": "stdout",
     "output_type": "stream",
     "text": [
      "Validation Accuracy: 0.9626147201727551\n",
      "Test Accuracy: 0.9613758992805755\n"
     ]
    }
   ],
   "source": [
    "import pandas as pd\n",
    "import numpy as np\n",
    "\n",
    "from sklearn.linear_model import LogisticRegression\n",
    "from sklearn.model_selection import GridSearchCV\n",
    "\n",
    "# Define a range of hyperparameters to search over\n",
    "param_grid = {'C': [0.001, 0.01, 0.1, 1, 10, 100]}\n",
    "\n",
    "# Create a LogisticRegression model with regularization\n",
    "model = LogisticRegression(max_iter=1000, penalty='l2')\n",
    "\n",
    "# Use GridSearchCV to find the best hyperparameters using cross-validation\n",
    "grid_search = GridSearchCV(model, param_grid, cv=5, scoring='accuracy')\n",
    "grid_search.fit(X_train, y_train_resampled)\n",
    "\n",
    "# Get the best model with the selected hyperparameters\n",
    "lr_best_model = grid_search.best_estimator_\n",
    "\n",
    "# Train the best model on the entire training data\n",
    "lr_best_model.fit(X_train, y_train_resampled)\n",
    "\n",
    "# Evaluate the model on the validation set\n",
    "validation_accuracy = lr_best_model.score(X_val, y_val_resampled)\n",
    "print(\"Validation Accuracy:\", validation_accuracy)\n",
    "# Evaluate the model on the test set\n",
    "test_accuracy = lr_best_model.score(X_test, y_test)\n",
    "print(\"Test Accuracy:\", test_accuracy)"
   ]
  },
  {
   "cell_type": "code",
   "execution_count": 22,
   "id": "7c74fd20-b75a-4590-81b3-1bb40e3774b2",
   "metadata": {
    "tags": []
   },
   "outputs": [],
   "source": [
    "#By taking the above coefficient value for each feature, we are going to try use the same features with a more robust model, XGBoost. \n",
    "\n",
    "coefficients = pd.DataFrame({\n",
    "    'Feature': ['adrtg', 'Min_per', 'AST_per', 'twoPM', 'obpm', 'twoPA', 'stl_per', 'dunksmiss_dunksmade', 'ast',\n",
    "                'usg', 'midmade_midmiss', 'TS_per', 'adjoe', 'rimmade', 'midmade', 'porpag', 'drtg', 'dgbpm',\n",
    "                'dunksmade', 'stops', 'ogbpm', 'eFG', 'dbpm', 'TO_per', 'pfr', 'mp', 'rimmade_rimmiss', 'TPM',\n",
    "                'dunks_ratio', 'GP', 'bpm', 'Rec_Rank', 'twoP_per', 'FT_per', 'FTA', 'mid_ratio', 'dreb', 'DRB_per',\n",
    "                'dporpag', 'blk_per', 'gbpm', 'stl', 'oreb', 'ast_tov', 'FTM', 'ftr', 'rim_ratio', 'blk', 'treb',\n",
    "                'TPA', 'TP_per', 'pick', 'ORB_per', 'pts', 'Ortg'],\n",
    "    'Absolute Coefficient': [3.340078, 3.542694, 2.779246, 2.558382, 2.441382, 2.395607, 2.205659, 2.131396,\n",
    "                             2.092174, 2.086758, 2.043614, 1.923499, 1.795148, 1.754931, 1.675424, 1.623246,\n",
    "                             1.584561, 1.505753, 1.505267, 1.457823, 1.264243, 1.249943, 1.243752, 1.079634,\n",
    "                             1.048334, 0.984514, 0.927019, 0.904347, 0.875047, 0.861829, 0.839320, 0.789912,\n",
    "                             0.597381, 0.575458, 0.528011, 0.525412, 0.498164, 0.436940, 0.426927, 0.421211,\n",
    "                             0.377454, 0.369609, 0.337747, 0.287269, 0.248238, 0.246318, 0.204145, 0.192189,\n",
    "                             0.168635, 0.151730, 0.151492, 0.139234, 0.088484, 0.086800, 0.042992]\n",
    "})\n"
   ]
  },
  {
   "cell_type": "code",
   "execution_count": 23,
   "id": "dda5658e-44aa-40af-b3b1-c7e985a5fba2",
   "metadata": {
    "tags": []
   },
   "outputs": [
    {
     "name": "stdout",
     "output_type": "stream",
     "text": [
      "Validation Accuracy: 0.9799352168436206\n",
      "Test Accuracy: 0.9829586330935252\n"
     ]
    }
   ],
   "source": [
    "\n",
    "import pandas as pd\n",
    "from sklearn.model_selection import train_test_split\n",
    "from xgboost import XGBClassifier\n",
    "from sklearn.metrics import accuracy_score\n",
    "\n",
    "\n",
    "# Set a threshold for absolute coefficient values\n",
    "threshold = 0.04\n",
    "\n",
    "# Select features with absolute coefficient values above the threshold\n",
    "selected_features = coefficients[coefficients['Absolute Coefficient'] > threshold]['Feature'].tolist()\n",
    "\n",
    "# Create DataFrames with selected features\n",
    "X_train_selected = X_train[selected_features]\n",
    "X_val_selected = X_val[selected_features]\n",
    "X_test_selected = X_test[selected_features]\n",
    "\n",
    "# Initialize XGBoost model\n",
    "xgb_model = XGBClassifier()\n",
    "\n",
    "# Train the model on the training data\n",
    "xgb_model.fit(X_train_selected, y_train_resampled)\n",
    "\n",
    "# Predict on validation set\n",
    "val_predictions = xgb_model.predict(X_val_selected)\n",
    "val_accuracy = accuracy_score(y_val_resampled, val_predictions)\n",
    "print(\"Validation Accuracy:\", val_accuracy)\n",
    "\n",
    "# Predict on test set\n",
    "test_predictions = xgb_model.predict(X_test_selected)\n",
    "test_accuracy = accuracy_score(y_test, test_predictions)\n",
    "print(\"Test Accuracy:\", test_accuracy)"
   ]
  },
  {
   "cell_type": "code",
   "execution_count": 323,
   "id": "55c51075-9dab-4091-964a-d728cdb99f58",
   "metadata": {},
   "outputs": [
    {
     "name": "stdout",
     "output_type": "stream",
     "text": [
      "Best Validation Accuracy: 0.9814198308439805\n",
      "Best Validation F1 Score: 0.9811990713342742\n",
      "Test Accuracy: 0.9857014388489208\n",
      "Test F1 Score: 0.9855729970057163\n"
     ]
    }
   ],
   "source": [
    "#Since the results are slightly better, we are going to try and do hyperparameter tuning using grid search to get the best parameters. \n",
    "\n",
    "import pandas as pd\n",
    "from sklearn.model_selection import GridSearchCV\n",
    "from xgboost import XGBClassifier\n",
    "from sklearn.metrics import accuracy_score, f1_score\n",
    "import pandas as pd\n",
    "\n",
    "coefficients = pd.DataFrame({\n",
    "    'Feature': ['adrtg', 'Min_per', 'AST_per', 'twoPM', 'obpm', 'twoPA', 'stl_per', 'dunksmiss_dunksmade', 'ast',\n",
    "                'usg', 'midmade_midmiss', 'TS_per', 'adjoe', 'rimmade', 'midmade', 'porpag', 'drtg', 'dgbpm',\n",
    "                'dunksmade', 'stops', 'ogbpm', 'eFG', 'dbpm', 'TO_per', 'pfr', 'mp', 'rimmade_rimmiss', 'TPM',\n",
    "                'dunks_ratio', 'GP', 'bpm', 'Rec_Rank', 'twoP_per', 'FT_per', 'FTA', 'mid_ratio', 'dreb', 'DRB_per',\n",
    "                'dporpag', 'blk_per', 'gbpm', 'stl', 'oreb', 'ast_tov', 'FTM', 'ftr', 'rim_ratio', 'blk', 'treb',\n",
    "                'TPA', 'TP_per', 'pick', 'ORB_per', 'pts', 'Ortg'],\n",
    "    'Absolute Coefficient': [3.340078, 3.542694, 2.779246, 2.558382, 2.441382, 2.395607, 2.205659, 2.131396,\n",
    "                             2.092174, 2.086758, 2.043614, 1.923499, 1.795148, 1.754931, 1.675424, 1.623246,\n",
    "                             1.584561, 1.505753, 1.505267, 1.457823, 1.264243, 1.249943, 1.243752, 1.079634,\n",
    "                             1.048334, 0.984514, 0.927019, 0.904347, 0.875047, 0.861829, 0.839320, 0.789912,\n",
    "                             0.597381, 0.575458, 0.528011, 0.525412, 0.498164, 0.436940, 0.426927, 0.421211,\n",
    "                             0.377454, 0.369609, 0.337747, 0.287269, 0.248238, 0.246318, 0.204145, 0.192189,\n",
    "                             0.168635, 0.151730, 0.151492, 0.139234, 0.088484, 0.086800, 0.042992]\n",
    "})\n",
    "\n",
    "# Set a threshold for absolute coefficient values\n",
    "threshold = 0.04\n",
    "\n",
    "# Select features with absolute coefficient values above the threshold\n",
    "selected_features = coefficients[coefficients['Absolute Coefficient'] > threshold]['Feature'].tolist()\n",
    "\n",
    "# Create DataFrames with selected features\n",
    "X_train_selected = X_train[selected_features]\n",
    "X_val_selected = X_val[selected_features]\n",
    "X_test_selected = X_test[selected_features]\n",
    "\n",
    "# Create XGBoost model\n",
    "xgb_model_grid = XGBClassifier()\n",
    "\n",
    "# Define the hyperparameters and their possible values for tuning\n",
    "param_grid = {\n",
    "    'learning_rate': [0.01, 0.1, 0.2],\n",
    "    'max_depth': [3, 4, 5],\n",
    "    'n_estimators': [100, 200, 300],\n",
    "    'reg_lambda': [0.1, 1, 10]\n",
    "}\n",
    "\n",
    "# Initialize GridSearchCV\n",
    "grid_search = GridSearchCV(estimator=xgb_model_grid, param_grid=param_grid, scoring='accuracy', cv=3)\n",
    "\n",
    "# Perform grid search on training data\n",
    "grid_search.fit(X_train_selected, y_train_resampled)\n",
    "\n",
    "# Get the best parameters and best model\n",
    "best_params = grid_search.best_params_\n",
    "best_grid_model = grid_search.best_estimator_\n",
    "\n",
    "# Evaluate the best model on validation set\n",
    "val_predictions = best_grid_model.predict(X_val_selected)\n",
    "val_accuracy = accuracy_score(y_val_resampled, val_predictions)\n",
    "val_f1 = f1_score(y_val_resampled, val_predictions)\n",
    "print(\"Best Validation Accuracy:\", val_accuracy)\n",
    "print(\"Best Validation F1 Score:\", val_f1)\n",
    "\n",
    "# Predict on test set\n",
    "test_predictions = best_grid_model.predict(X_test_selected)\n",
    "test_accuracy = accuracy_score(y_test, test_predictions)\n",
    "test_f1 = f1_score(y_test, test_predictions)\n",
    "print(\"Test Accuracy:\", test_accuracy)\n",
    "print(\"Test F1 Score:\", test_f1)\n"
   ]
  },
  {
   "cell_type": "code",
   "execution_count": 324,
   "id": "7f03a857-8eee-4f12-ba6f-d9ed79280436",
   "metadata": {
    "tags": []
   },
   "outputs": [
    {
     "name": "stdout",
     "output_type": "stream",
     "text": [
      "{'learning_rate': 0.2, 'max_depth': 4, 'n_estimators': 300, 'reg_lambda': 0.1}\n"
     ]
    }
   ],
   "source": [
    "# These may not be the best hyper parameters, but we are going to try and see the parameters closer to these values to improve the model performance and generalisation capability. \n",
    "print(best_params)\n"
   ]
  },
  {
   "cell_type": "code",
   "execution_count": 325,
   "id": "0d9630e0-8b75-452c-aacb-7b7f086cfd2a",
   "metadata": {
    "tags": []
   },
   "outputs": [
    {
     "name": "stdout",
     "output_type": "stream",
     "text": [
      "Best Validation Accuracy: 0.9816897606622278\n",
      "Best Validation F1 Score: 0.9814772675556365\n",
      "Test Accuracy: 0.9868255395683453\n",
      "Test F1 Score: 0.9867198477088337\n"
     ]
    }
   ],
   "source": [
    "\n",
    "import pandas as pd\n",
    "from sklearn.model_selection import GridSearchCV\n",
    "from xgboost import XGBClassifier\n",
    "from sklearn.metrics import accuracy_score, f1_score\n",
    "import pandas as pd\n",
    "\n",
    "# Set a threshold for absolute coefficient values\n",
    "threshold = 0.04\n",
    "\n",
    "# Select features with absolute coefficient values above the threshold\n",
    "selected_features = coefficients[coefficients['Absolute Coefficient'] > threshold]['Feature'].tolist()\n",
    "\n",
    "# Create DataFrames with selected features\n",
    "X_train_selected = X_train[selected_features]\n",
    "X_val_selected = X_val[selected_features]\n",
    "X_test_selected = X_test[selected_features]\n",
    "\n",
    "# Create XGBoost model\n",
    "xgb_model_grid = XGBClassifier()\n",
    "\n",
    "# Define the hyperparameters and their possible values for tuning\n",
    "param_grid = {\n",
    "    'learning_rate': [0.01, 0.18, 0.2, 0.22, 0.25],\n",
    "    'max_depth': [2, 4, 5, 6],\n",
    "    'n_estimators': [250, 300, 310],\n",
    "    'reg_lambda': [0.1, 0.15, 0.2]\n",
    "}\n",
    "\n",
    "# Initialize GridSearchCV\n",
    "grid_search = GridSearchCV(estimator=xgb_model_grid, param_grid=param_grid, scoring='accuracy', cv=3)\n",
    "\n",
    "# Perform grid search on training data\n",
    "grid_search.fit(X_train_selected, y_train_resampled)\n",
    "\n",
    "# Get the best parameters and best model\n",
    "best_params = grid_search.best_params_\n",
    "best_grid_model_v2 = grid_search.best_estimator_\n",
    "\n",
    "# Evaluate the best model on validation set\n",
    "val_predictions = best_grid_model_v2.predict(X_val_selected)\n",
    "val_accuracy = accuracy_score(y_val_resampled, val_predictions)\n",
    "val_f1 = f1_score(y_val_resampled, val_predictions)\n",
    "print(\"Best Validation Accuracy:\", val_accuracy)\n",
    "print(\"Best Validation F1 Score:\", val_f1)\n",
    "\n",
    "# Predict on test set\n",
    "test_predictions = best_grid_model_v2.predict(X_test_selected)\n",
    "test_accuracy = accuracy_score(y_test, test_predictions)\n",
    "test_f1 = f1_score(y_test, test_predictions)\n",
    "print(\"Test Accuracy:\", test_accuracy)\n",
    "print(\"Test F1 Score:\", test_f1)"
   ]
  },
  {
   "cell_type": "code",
   "execution_count": 60,
   "id": "3fb97ec2-0922-458c-8e8f-4f6bd23b37a1",
   "metadata": {
    "tags": []
   },
   "outputs": [
    {
     "name": "stdout",
     "output_type": "stream",
     "text": [
      "Train Accuracy: 0.9933825515440713\n",
      "Train F1 Score: 0.9934215433268195\n",
      "Validation Accuracy: 0.9932067662407774\n",
      "Validation F1 Score: 0.9932513966480447\n",
      "Test Accuracy: 0.9935701438848921\n",
      "Test F1 Score: 0.9936095097644903\n"
     ]
    }
   ],
   "source": [
    "#After a few tweaks in the parameters, making sure to each the optimum max-depth while increasing the value of the reg_lambda to prevent from overfitting,\n",
    "# The following parameters have brought in the best model performance in terms of the F1 score, and generalisation. \n",
    "from xgboost import XGBClassifier\n",
    "from sklearn.metrics import accuracy_score, f1_score\n",
    "\n",
    "# Use the best parameters obtained from grid search\n",
    "best_params = {'learning_rate': 0.0145, 'max_depth': 2, 'n_estimators': 400, 'reg_lambda': 0.5}\n",
    "\n",
    "# Create XGBoost model with the best parameters\n",
    "best_model = XGBClassifier(\n",
    "    learning_rate=best_params['learning_rate'],\n",
    "    max_depth=best_params['max_depth'],\n",
    "    n_estimators=best_params['n_estimators'],\n",
    "    reg_lambda=best_params['reg_lambda']\n",
    ")\n",
    "\n",
    "# Train the model on the training data with selected features\n",
    "best_model.fit(X_train_selected, y_train_resampled)\n",
    "\n",
    "# Evaluate the model on the validation set\n",
    "train_predictions = best_model.predict(X_train_selected)\n",
    "train_accuracy = accuracy_score(y_train_resampled, train_predictions)\n",
    "train_f1 = f1_score(y_train_resampled, train_predictions)\n",
    "print(\"Train Accuracy:\", train_accuracy)\n",
    "print(\"Train F1 Score:\", train_f1)\n",
    "\n",
    "# Evaluate the model on the validation set\n",
    "val_predictions = best_model.predict(X_val_selected)\n",
    "val_accuracy = accuracy_score(y_val_resampled, val_predictions)\n",
    "val_f1 = f1_score(y_val_resampled, val_predictions)\n",
    "print(\"Validation Accuracy:\", val_accuracy)\n",
    "print(\"Validation F1 Score:\", val_f1)\n",
    "\n",
    "# Evaluate the model on the test set\n",
    "test_predictions = best_model.predict(X_test_selected)\n",
    "test_accuracy = accuracy_score(y_test, test_predictions)\n",
    "test_f1 = f1_score(y_test, test_predictions)\n",
    "print(\"Test Accuracy:\", test_accuracy)\n",
    "print(\"Test F1 Score:\", test_f1)"
   ]
  },
  {
   "cell_type": "code",
   "execution_count": 328,
   "id": "91694e92-d98e-4cf5-b849-adc0043a250b",
   "metadata": {},
   "outputs": [
    {
     "name": "stdout",
     "output_type": "stream",
     "text": [
      "Cross-Validation Results:\n",
      "Accuracy: [0.99467327 0.99437317 0.99459784 0.99302221 0.99392257]\n",
      "F1 Score: [0.99469079 0.99440173 0.99462366 0.9930685  0.99395838]\n"
     ]
    }
   ],
   "source": [
    "from xgboost import XGBClassifier\n",
    "from sklearn.metrics import make_scorer, accuracy_score, f1_score\n",
    "from sklearn.model_selection import cross_validate\n",
    "\n",
    "# Use the best parameters obtained from grid search\n",
    "best_params = {'learning_rate': 0.0750, 'max_depth': 1, 'n_estimators': 500, 'reg_lambda': 0.4}\n",
    "\n",
    "# Create XGBoost model with the best parameters\n",
    "best_model = XGBClassifier(\n",
    "    learning_rate=best_params['learning_rate'],\n",
    "    max_depth=best_params['max_depth'],\n",
    "    n_estimators=best_params['n_estimators'],\n",
    "    reg_lambda=best_params['reg_lambda']\n",
    ")\n",
    "\n",
    "# Define scoring metrics\n",
    "scoring_metrics = {\n",
    "    'accuracy': make_scorer(accuracy_score),\n",
    "    'f1_score': make_scorer(f1_score)\n",
    "}\n",
    "\n",
    "# Perform cross-validation\n",
    "cv_results = cross_validate(\n",
    "    best_model,\n",
    "    X_train_selected,\n",
    "    y_train_resampled,\n",
    "    cv=5,  # Number of folds for cross-validation\n",
    "    scoring=scoring_metrics\n",
    ")\n",
    "\n",
    "# Print cross-validation results\n",
    "print(\"Cross-Validation Results:\")\n",
    "print(\"Accuracy:\", cv_results['test_accuracy'])\n",
    "print(\"F1 Score:\", cv_results['test_f1_score'])\n"
   ]
  },
  {
   "cell_type": "code",
   "execution_count": 50,
   "id": "ef9794df-a504-492c-977c-deea6a7a3aee",
   "metadata": {
    "tags": []
   },
   "outputs": [
    {
     "data": {
      "text/plain": [
       "['models/xgb_model_best.joblib']"
      ]
     },
     "execution_count": 50,
     "metadata": {},
     "output_type": "execute_result"
    }
   ],
   "source": [
    "from joblib import dump\n",
    "\n",
    "dump(best_model,  'models/xgb_model_best.joblib')"
   ]
  },
  {
   "cell_type": "code",
   "execution_count": 61,
   "id": "49986e50-1561-4849-adc9-e773f33c1a31",
   "metadata": {
    "tags": []
   },
   "outputs": [
    {
     "name": "stdout",
     "output_type": "stream",
     "text": [
      "Validation AUROC: 0.9979139497871277\n",
      "Test AUROC: 0.9985062723202732\n"
     ]
    },
    {
     "data": {
      "image/png": "[encoded data removed]",
      "text/plain": [
       "<Figure size 640x480 with 1 Axes>"
      ]
     },
     "metadata": {},
     "output_type": "display_data"
    },
    {
     "data": {
      "image/png": "[encoded data removed]",
      "text/plain": [
       "<Figure size 640x480 with 1 Axes>"
      ]
     },
     "metadata": {},
     "output_type": "display_data"
    }
   ],
   "source": [
    "import numpy as np\n",
    "from sklearn.metrics import roc_auc_score, roc_curve\n",
    "import matplotlib.pyplot as plt\n",
    "\n",
    "loaded_model = load('models/xgb_model_best.joblib')\n",
    "\n",
    "# Now you can use the loaded model for predictions\n",
    "val_probabilities = loaded_model.predict_proba(X_val_selected)[:, 1]\n",
    "test_probabilities = loaded_model.predict_proba(X_test_selected)[:, 1]\n",
    "\n",
    "# Calculate AUROC for validation set\n",
    "val_auroc = roc_auc_score(y_val_resampled, val_probabilities)\n",
    "print(\"Validation AUROC:\", val_auroc)\n",
    "\n",
    "# Calculate AUROC for test set\n",
    "test_auroc = roc_auc_score(y_test, test_probabilities)\n",
    "print(\"Test AUROC:\", test_auroc)\n",
    "\n",
    "# Plot ROC curve for validation set\n",
    "fpr_val, tpr_val, _ = roc_curve(y_val_resampled, val_probabilities)\n",
    "plt.figure()\n",
    "plt.plot(fpr_val, tpr_val, color='darkorange', lw=2, label='Validation ROC curve (area = %0.2f)' % val_auroc)\n",
    "plt.plot([0, 1], [0, 1], color='navy', lw=2, linestyle='--')\n",
    "plt.xlim([0.0, 1.0])\n",
    "plt.ylim([0.0, 1.05])\n",
    "plt.xlabel('False Positive Rate')\n",
    "plt.ylabel('True Positive Rate')\n",
    "plt.title('Receiver Operating Characteristic')\n",
    "plt.legend(loc=\"lower right\")\n",
    "plt.show()\n",
    "\n",
    "# Plot ROC curve for test set\n",
    "fpr_test, tpr_test, _ = roc_curve(y_test, test_probabilities)\n",
    "plt.figure()\n",
    "plt.plot(fpr_test, tpr_test, color='darkorange', lw=2, label='Test ROC curve (area = %0.2f)' % test_auroc)\n",
    "plt.plot([0, 1], [0, 1], color='navy', lw=2, linestyle='--')\n",
    "plt.xlim([0.0, 1.0])\n",
    "plt.ylim([0.0, 1.05])\n",
    "plt.xlabel('False Positive Rate')\n",
    "plt.ylabel('True Positive Rate')\n",
    "plt.title('Receiver Operating Characteristic')\n",
    "plt.legend(loc=\"lower right\")\n",
    "plt.show()\n"
   ]
  },
  {
   "cell_type": "code",
   "execution_count": 53,
   "id": "3073d316-3776-43f6-8281-357a4c9b908e",
   "metadata": {
    "tags": []
   },
   "outputs": [],
   "source": [
    "selected_features = [\n",
    "    'GP', 'Min_per', 'Ortg', 'usg', 'eFG', 'TS_per', 'ORB_per', 'DRB_per', 'AST_per', 'TO_per',\n",
    "    'FTM', 'FTA', 'FT_per', 'twoPM', 'twoPA', 'twoP_per', 'TPM', 'TPA', 'TP_per', 'blk_per',\n",
    "    'stl_per', 'ftr', 'porpag', 'adjoe', 'pfr', 'Rec_Rank', 'ast_tov', 'rimmade', 'rimmade_rimmiss',\n",
    "    'midmade', 'midmade_midmiss', 'rim_ratio', 'mid_ratio', 'dunksmade', 'dunksmiss_dunksmade',\n",
    "    'dunks_ratio', 'pick', 'drtg', 'adrtg', 'dporpag', 'stops', 'bpm', 'obpm', 'dbpm', 'gbpm',\n",
    "    'mp', 'ogbpm', 'dgbpm', 'oreb', 'dreb', 'treb', 'ast', 'stl', 'blk', 'pts'\n",
    "]\n",
    "test = pd.read_csv('data/raw/test.csv')\n",
    "# Keeping only the selected features in the test dataframe\n",
    "test_selected = test[selected_features]"
   ]
  },
  {
   "cell_type": "code",
   "execution_count": 54,
   "id": "95326bcb-5e9e-4e8e-a4e2-a5c63ff97cde",
   "metadata": {
    "tags": []
   },
   "outputs": [
    {
     "name": "stdout",
     "output_type": "stream",
     "text": [
      "<class 'pandas.core.frame.DataFrame'>\n",
      "RangeIndex: 4970 entries, 0 to 4969\n",
      "Data columns (total 55 columns):\n",
      " #   Column               Non-Null Count  Dtype  \n",
      "---  ------               --------------  -----  \n",
      " 0   GP                   4970 non-null   float64\n",
      " 1   Min_per              4970 non-null   float64\n",
      " 2   Ortg                 4970 non-null   float64\n",
      " 3   usg                  4970 non-null   float64\n",
      " 4   eFG                  4970 non-null   float64\n",
      " 5   TS_per               4970 non-null   float64\n",
      " 6   ORB_per              4970 non-null   float64\n",
      " 7   DRB_per              4970 non-null   float64\n",
      " 8   AST_per              4970 non-null   float64\n",
      " 9   TO_per               4970 non-null   float64\n",
      " 10  FTM                  4970 non-null   float64\n",
      " 11  FTA                  4970 non-null   float64\n",
      " 12  FT_per               4970 non-null   float64\n",
      " 13  twoPM                4970 non-null   float64\n",
      " 14  twoPA                4970 non-null   float64\n",
      " 15  twoP_per             4970 non-null   float64\n",
      " 16  TPM                  4970 non-null   float64\n",
      " 17  TPA                  4970 non-null   float64\n",
      " 18  TP_per               4970 non-null   float64\n",
      " 19  blk_per              4970 non-null   float64\n",
      " 20  stl_per              4970 non-null   float64\n",
      " 21  ftr                  4970 non-null   float64\n",
      " 22  porpag               4970 non-null   float64\n",
      " 23  adjoe                4970 non-null   float64\n",
      " 24  pfr                  4970 non-null   float64\n",
      " 25  Rec_Rank             1434 non-null   float64\n",
      " 26  ast_tov              4433 non-null   float64\n",
      " 27  rimmade              4722 non-null   float64\n",
      " 28  rimmade_rimmiss      4722 non-null   float64\n",
      " 29  midmade              4722 non-null   float64\n",
      " 30  midmade_midmiss      4722 non-null   float64\n",
      " 31  rim_ratio            4324 non-null   float64\n",
      " 32  mid_ratio            4273 non-null   float64\n",
      " 33  dunksmade            4722 non-null   float64\n",
      " 34  dunksmiss_dunksmade  4722 non-null   float64\n",
      " 35  dunks_ratio          2253 non-null   float64\n",
      " 36  pick                 49 non-null     float64\n",
      " 37  drtg                 4969 non-null   float64\n",
      " 38  adrtg                4969 non-null   float64\n",
      " 39  dporpag              4969 non-null   float64\n",
      " 40  stops                4969 non-null   float64\n",
      " 41  bpm                  4969 non-null   float64\n",
      " 42  obpm                 4969 non-null   float64\n",
      " 43  dbpm                 4969 non-null   float64\n",
      " 44  gbpm                 4969 non-null   float64\n",
      " 45  mp                   4970 non-null   float64\n",
      " 46  ogbpm                4969 non-null   float64\n",
      " 47  dgbpm                4969 non-null   float64\n",
      " 48  oreb                 4970 non-null   float64\n",
      " 49  dreb                 4970 non-null   float64\n",
      " 50  treb                 4970 non-null   float64\n",
      " 51  ast                  4970 non-null   float64\n",
      " 52  stl                  4970 non-null   float64\n",
      " 53  blk                  4970 non-null   float64\n",
      " 54  pts                  4970 non-null   float64\n",
      "dtypes: float64(55)\n",
      "memory usage: 2.1 MB\n"
     ]
    }
   ],
   "source": [
    "from joblib import dump, load\n",
    "loaded_scaler = load('models/scaler.joblib')\n",
    "X_tt = loaded_scaler.transform(test_selected)\n",
    "\n",
    "\n",
    "# Converting scaled array to DataFrame\n",
    "X_tt_df = pd.DataFrame(X_tt, columns=test_selected.columns)\n",
    "\n",
    "# Now X_tt_df is a DataFrame containing the scaled data with the appropriate column names\n",
    "X_tt_df.info()"
   ]
  },
  {
   "cell_type": "code",
   "execution_count": 55,
   "id": "4f001aaa-6ae6-4265-a3fc-02c1503df9a9",
   "metadata": {
    "tags": []
   },
   "outputs": [],
   "source": [
    "import pandas as pd\n",
    "import numpy as np\n",
    "\n",
    "# Load the test data\n",
    "test = pd.read_csv('data/raw/test.csv')\n",
    "\n",
    "# Setting a threshold for absolute coefficient values\n",
    "threshold = 0.04\n",
    "\n",
    "# Selecting features with absolute coefficient values above the threshold\n",
    "selected_features = coefficients[coefficients['Absolute Coefficient'] > threshold]['Feature'].tolist()\n",
    "\n",
    "\n",
    "# Keeping only the selected features in the test dataframe\n",
    "test_selected = X_tt_df[selected_features]\n",
    "\n"
   ]
  },
  {
   "cell_type": "code",
   "execution_count": 56,
   "id": "30fafc55-68fb-4470-949a-c705698c247c",
   "metadata": {
    "tags": []
   },
   "outputs": [
    {
     "name": "stdout",
     "output_type": "stream",
     "text": [
      "<class 'pandas.core.frame.DataFrame'>\n",
      "RangeIndex: 4970 entries, 0 to 4969\n",
      "Data columns (total 55 columns):\n",
      " #   Column               Non-Null Count  Dtype  \n",
      "---  ------               --------------  -----  \n",
      " 0   adrtg                4969 non-null   float64\n",
      " 1   Min_per              4970 non-null   float64\n",
      " 2   AST_per              4970 non-null   float64\n",
      " 3   twoPM                4970 non-null   float64\n",
      " 4   obpm                 4969 non-null   float64\n",
      " 5   twoPA                4970 non-null   float64\n",
      " 6   stl_per              4970 non-null   float64\n",
      " 7   dunksmiss_dunksmade  4722 non-null   float64\n",
      " 8   ast                  4970 non-null   float64\n",
      " 9   usg                  4970 non-null   float64\n",
      " 10  midmade_midmiss      4722 non-null   float64\n",
      " 11  TS_per               4970 non-null   float64\n",
      " 12  adjoe                4970 non-null   float64\n",
      " 13  rimmade              4722 non-null   float64\n",
      " 14  midmade              4722 non-null   float64\n",
      " 15  porpag               4970 non-null   float64\n",
      " 16  drtg                 4969 non-null   float64\n",
      " 17  dgbpm                4969 non-null   float64\n",
      " 18  dunksmade            4722 non-null   float64\n",
      " 19  stops                4969 non-null   float64\n",
      " 20  ogbpm                4969 non-null   float64\n",
      " 21  eFG                  4970 non-null   float64\n",
      " 22  dbpm                 4969 non-null   float64\n",
      " 23  TO_per               4970 non-null   float64\n",
      " 24  pfr                  4970 non-null   float64\n",
      " 25  mp                   4970 non-null   float64\n",
      " 26  rimmade_rimmiss      4722 non-null   float64\n",
      " 27  TPM                  4970 non-null   float64\n",
      " 28  dunks_ratio          2253 non-null   float64\n",
      " 29  GP                   4970 non-null   float64\n",
      " 30  bpm                  4969 non-null   float64\n",
      " 31  Rec_Rank             1434 non-null   float64\n",
      " 32  twoP_per             4970 non-null   float64\n",
      " 33  FT_per               4970 non-null   float64\n",
      " 34  FTA                  4970 non-null   float64\n",
      " 35  mid_ratio            4273 non-null   float64\n",
      " 36  dreb                 4970 non-null   float64\n",
      " 37  DRB_per              4970 non-null   float64\n",
      " 38  dporpag              4969 non-null   float64\n",
      " 39  blk_per              4970 non-null   float64\n",
      " 40  gbpm                 4969 non-null   float64\n",
      " 41  stl                  4970 non-null   float64\n",
      " 42  oreb                 4970 non-null   float64\n",
      " 43  ast_tov              4433 non-null   float64\n",
      " 44  FTM                  4970 non-null   float64\n",
      " 45  ftr                  4970 non-null   float64\n",
      " 46  rim_ratio            4324 non-null   float64\n",
      " 47  blk                  4970 non-null   float64\n",
      " 48  treb                 4970 non-null   float64\n",
      " 49  TPA                  4970 non-null   float64\n",
      " 50  TP_per               4970 non-null   float64\n",
      " 51  pick                 49 non-null     float64\n",
      " 52  ORB_per              4970 non-null   float64\n",
      " 53  pts                  4970 non-null   float64\n",
      " 54  Ortg                 4970 non-null   float64\n",
      "dtypes: float64(55)\n",
      "memory usage: 2.1 MB\n"
     ]
    }
   ],
   "source": [
    "test_selected.info()"
   ]
  },
  {
   "cell_type": "code",
   "execution_count": 46,
   "id": "f34a7489-c66f-452c-b2f8-8eec3d9f6903",
   "metadata": {
    "tags": []
   },
   "outputs": [],
   "source": [
    "test_selected.to_csv('data/processed/final_test_set.csv', index=False)\n"
   ]
  },
  {
   "cell_type": "code",
   "execution_count": 47,
   "id": "691fefa8-36be-407b-b00e-a3a2ec3ea1ec",
   "metadata": {
    "tags": []
   },
   "outputs": [],
   "source": [
    "import pandas as pd\n",
    "from joblib import load\n",
    "from sklearn.preprocessing import StandardScaler\n",
    "\n",
    "# Load the saved model\n",
    "xgb_loaded_model = load('models/xgb_model_best.joblib')\n",
    "\n",
    "\n",
    "\n",
    "\n",
    "\n"
   ]
  },
  {
   "cell_type": "code",
   "execution_count": 58,
   "id": "7b3feacd-6b96-47f2-a568-d977cb87ea3a",
   "metadata": {
    "tags": []
   },
   "outputs": [],
   "source": [
    "predicted_probabilities_xgb = xgb_loaded_model.predict_proba(test_selected_imputed)\n",
    "\n",
    "testing = pd.read_csv('data/raw/test.csv')\n",
    "\n",
    "\n",
    "xgb_result_df = pd.DataFrame({\n",
    "    'player_id': testing['player_id'] ,\n",
    "    'drafted_probability': predicted_probabilities_xgb[:, 1]\n",
    "})\n",
    "\n",
    "# Save the predicted probabilities to a CSV file\n",
    "xgb_result_df.to_csv('data/interim/week_3_best_model_predicted_probabilities.csv', index=False)\n",
    "xgb_result_df.to_csv('reports/figures/final_model_outputs_week3_31stAug.csv', index=False)"
   ]
  }
 ],
 "metadata": {
  "kernelspec": {
   "display_name": "Python 3 (ipykernel)",
   "language": "python",
   "name": "python3"
  },
  "language_info": {
   "codemirror_mode": {
    "name": "ipython",
    "version": 3
   },
   "file_extension": ".py",
   "mimetype": "text/x-python",
   "name": "python",
   "nbconvert_exporter": "python",
   "pygments_lexer": "ipython3",
   "version": "3.10.6"
  }
 },
 "nbformat": 4,
 "nbformat_minor": 5
}
